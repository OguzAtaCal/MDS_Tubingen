{
 "cells": [
  {
   "cell_type": "markdown",
   "id": "1b311c69-587e-4860-a9dd-565de690a0e6",
   "metadata": {},
   "source": [
    "Problem 3\n",
    "Part a)"
   ]
  },
  {
   "cell_type": "code",
   "execution_count": 16,
   "id": "703cbeed-c011-4305-9602-901ba1bca809",
   "metadata": {},
   "outputs": [],
   "source": [
    "import numpy as np\n",
    "from fractions import Fraction\n",
    "\n",
    "# Create matrices W1 and W2\n",
    "W1 = np.array([[1.00, 0.50, 0.30, 0.10, 0.10],\n",
    "               [0.50, 1.00, 0.40, 0.10, 0.10],\n",
    "               [0.30, 0.40, 1.00, 0.30, 0.30],\n",
    "               [0.10, 0.10, 0.30, 1.00, 0.50],\n",
    "               [0.10, 0.10, 0.30, 0.50, 1.00]])\n",
    "\n",
    "W2 = np.array([[1.00, 0.20, 0.50, 0.10, 0.10],\n",
    "               [0.20, 1.00, 0.30, 0.10, 0.10],\n",
    "               [0.50, 0.30, 1.00, 0.30, 0.30],\n",
    "               [0.10, 0.10, 0.30, 1.00, 0.50],\n",
    "               [0.10, 0.10, 0.30, 0.50, 1.00]])\n",
    "\n",
    "# Create the normalized weight matrix P1 and P2\n",
    "\n",
    "def normalized_weight_matrix(weight_matrix):\n",
    "    W = weight_matrix\n",
    "    P = np.empty((W.shape[0], W.shape[1]))\n",
    "    for i in range(W.shape[0]):\n",
    "        for j in range(W.shape[1]):\n",
    "            if(j == i):\n",
    "                 \n",
    "                P[i,j] = 0.5 \n",
    "            else: \n",
    "                sum = 0\n",
    "                for k in range(W.shape[0]):\n",
    "                    if k != i:\n",
    "                        sum += W[i,k]\n",
    "                \n",
    "                P[i,j] = (W[i,j]) / (2 * sum)\n",
    "    return P\n",
    "\n",
    "\n"
   ]
  },
  {
   "cell_type": "markdown",
   "id": "f7e9afee-4902-4042-84c2-db444c0c4849",
   "metadata": {},
   "source": [
    "Thus we have the matrices P1 and P2:"
   ]
  },
  {
   "cell_type": "code",
   "execution_count": 18,
   "id": "5d9c0e2e-e52d-4a8f-a074-f530d7bebcee",
   "metadata": {},
   "outputs": [
    {
     "name": "stdout",
     "output_type": "stream",
     "text": [
      "Matrix P1:\n",
      "[[0.5        0.25       0.15       0.05       0.05      ]\n",
      " [0.22727273 0.5        0.18181818 0.04545455 0.04545455]\n",
      " [0.11538462 0.15384615 0.5        0.11538462 0.11538462]\n",
      " [0.05       0.05       0.15       0.5        0.25      ]\n",
      " [0.05       0.05       0.15       0.25       0.5       ]]\n",
      "Matrix P2:\n",
      "[[0.5        0.11111111 0.27777778 0.05555556 0.05555556]\n",
      " [0.14285714 0.5        0.21428571 0.07142857 0.07142857]\n",
      " [0.17857143 0.10714286 0.5        0.10714286 0.10714286]\n",
      " [0.05       0.05       0.15       0.5        0.25      ]\n",
      " [0.05       0.05       0.15       0.25       0.5       ]]\n"
     ]
    }
   ],
   "source": [
    "print(\"Matrix P1:\") \n",
    "print(normalized_weight_matrix(W1))\n",
    "print(\"Matrix P2:\")\n",
    "print(normalized_weight_matrix(W2))"
   ]
  },
  {
   "cell_type": "code",
   "execution_count": null,
   "id": "bad54f13-a6c9-4304-885f-4971e41a4efe",
   "metadata": {},
   "outputs": [],
   "source": [
    "# Similarity Matrix\n",
    "\n",
    "def similarity_matrix(weight_matrix):\n",
    "    return 0\n"
   ]
  }
 ],
 "metadata": {
  "kernelspec": {
   "display_name": "Python 3 (ipykernel)",
   "language": "python",
   "name": "python3"
  },
  "language_info": {
   "codemirror_mode": {
    "name": "ipython",
    "version": 3
   },
   "file_extension": ".py",
   "mimetype": "text/x-python",
   "name": "python",
   "nbconvert_exporter": "python",
   "pygments_lexer": "ipython3",
   "version": "3.9.5"
  }
 },
 "nbformat": 4,
 "nbformat_minor": 5
}
